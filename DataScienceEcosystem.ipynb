{
 "cells": [
  {
   "cell_type": "markdown",
   "id": "a5eaae09",
   "metadata": {},
   "source": [
    "# Data Science Tools and Ecosystem"
   ]
  },
  {
   "cell_type": "markdown",
   "id": "2d402aed",
   "metadata": {},
   "source": [
    "In this notebook, Data Science Tools and Ecosystem are summarized."
   ]
  },
  {
   "cell_type": "markdown",
   "id": "859a4f79",
   "metadata": {},
   "source": [
    "**Objectives:**\n",
    "* Listing some popular data scienc programming languages\n",
    "* Listing some of the libraries\n",
    "* creating markdown cells\n",
    "* creating code cells\n",
    "\n"
   ]
  },
  {
   "cell_type": "markdown",
   "id": "bc39d9a6",
   "metadata": {},
   "source": [
    "Some of the most popoular languages that Data Scientists use are:\n",
    "1. Python\n",
    "2. R\n",
    "3. Julia"
   ]
  },
  {
   "cell_type": "markdown",
   "id": "0d883608",
   "metadata": {},
   "source": [
    "Some of the commonly used libraries used by Data Scientists include:\n",
    "1. Pandas\n",
    "2. Numpy\n",
    "3. Dplyr"
   ]
  },
  {
   "cell_type": "markdown",
   "id": "b479ce2f",
   "metadata": {},
   "source": [
    "| Data Science Tools |\n",
    "|--------------------|\n",
    "|Watson Studio|\n",
    "|Anaconda|\n",
    "|Fiddler|"
   ]
  },
  {
   "cell_type": "markdown",
   "id": "610c162f",
   "metadata": {},
   "source": [
    "### Below are a few examples of evaluating arithmetic expressions in Python\n",
    "* 7-5 subtraction\n",
    "* 24*7 multiplication\n",
    "* 60/4 division\n"
   ]
  },
  {
   "cell_type": "code",
   "execution_count": 1,
   "id": "068491f2",
   "metadata": {},
   "outputs": [
    {
     "data": {
      "text/plain": [
       "17"
      ]
     },
     "execution_count": 1,
     "metadata": {},
     "output_type": "execute_result"
    }
   ],
   "source": [
    "#  This a simple arithmetic expression to mutiply then add integers\n",
    "(3*4)+5"
   ]
  },
  {
   "cell_type": "code",
   "execution_count": 3,
   "id": "e356986a",
   "metadata": {},
   "outputs": [
    {
     "name": "stdout",
     "output_type": "stream",
     "text": [
      "3.3333333333333335\n"
     ]
    }
   ],
   "source": [
    "# This will convert 200 minutes to hours by diving by 60\n",
    "h = 200/60\n",
    "print (h)"
   ]
  },
  {
   "cell_type": "markdown",
   "id": "ac74e089",
   "metadata": {},
   "source": [
    "## Author\n",
    "Almahdi OUBIHI"
   ]
  },
  {
   "cell_type": "code",
   "execution_count": null,
   "id": "6e537704",
   "metadata": {},
   "outputs": [],
   "source": []
  }
 ],
 "metadata": {
  "kernelspec": {
   "display_name": "Python 3 (ipykernel)",
   "language": "python",
   "name": "python3"
  },
  "language_info": {
   "codemirror_mode": {
    "name": "ipython",
    "version": 3
   },
   "file_extension": ".py",
   "mimetype": "text/x-python",
   "name": "python",
   "nbconvert_exporter": "python",
   "pygments_lexer": "ipython3",
   "version": "3.11.5"
  }
 },
 "nbformat": 4,
 "nbformat_minor": 5
}
